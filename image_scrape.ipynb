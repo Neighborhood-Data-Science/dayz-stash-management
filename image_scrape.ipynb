{
 "cells": [
  {
   "cell_type": "code",
   "execution_count": null,
   "metadata": {},
   "outputs": [],
   "source": [
    "import pandas as pd\n",
    "import sys\n",
    "import time\n",
    "import requests\n",
    "from selenium import webdriver\n",
    "from selenium.webdriver.chrome.options import Options\n",
    "from selenium.webdriver.chrome.service import Service\n",
    "from selenium.webdriver.common.by import By\n",
    "\n",
    "from webdriver_manager.chrome import ChromeDriverManager\n",
    "from selenium.webdriver.support.ui import WebDriverWait\n",
    "from selenium.webdriver.support import expected_conditions as EC\n",
    "from selenium.webdriver.common.desired_capabilities import DesiredCapabilities\n",
    "\n",
    "#Set options to run Chrome in 'Headless' mode and other environment settings.\n",
    "chrome_options = Options()\n",
    "chrome_options.add_argument(\"--headless\")\n",
    "chrome_options.add_argument(\"--no-sandbox\")\n",
    "chrome_options.add_argument(\"--window-size=1920x1080\")\n",
    "chrome_options.page_load_strategy = \"eager\""
   ]
  },
  {
   "cell_type": "code",
   "execution_count": null,
   "metadata": {},
   "outputs": [],
   "source": [
    "def start_driver_and_open_url(url):\n",
    "    \"\"\"\n",
    "    Starts a webdriver and opens the given URL.\n",
    "\n",
    "    Parameters\n",
    "    ----------\n",
    "    url: `str`\n",
    "        String of the URL to retrieve image information.\n",
    "\n",
    "    Returns\n",
    "    -------\n",
    "    driver : WebDriver\n",
    "        Google webdriver at a predetermined URL.\n",
    "    \"\"\"\n",
    "\n",
    "    #This installs the latest version of the official Google chromedriver\n",
    "    #Accesses cached version if present.\n",
    "\n",
    "    #Initialize variable\n",
    "    driver = None\n",
    "\n",
    "    #Opens driver. Installs if not present.\n",
    "    try:\n",
    "        #Attempt to intialize the driver\n",
    "        driver = webdriver.Chrome(service=Service(ChromeDriverManager().install()),\\\n",
    "                options=chrome_options)\n",
    "        \n",
    "    except Exception as err:\n",
    "        print(f\"'Setting Driver Error: {err}'\")\n",
    "        sys.exit(0)\n",
    "\n",
    "    #Set URL\n",
    "    driver.get(url)\n",
    "    \n",
    "    return driver"
   ]
  },
  {
   "cell_type": "markdown",
   "metadata": {},
   "source": [
    "This creates a dictionary of lists containing all the image names and image URLs found on the webpage.\n",
    "\n",
    "If the image name has an extension of `.png`, then it is pulled into the dictionary.\n",
    "\n",
    "If the image has an associated link, then it is pulled into the dictionary."
   ]
  },
  {
   "cell_type": "code",
   "execution_count": null,
   "metadata": {},
   "outputs": [],
   "source": [
    "def get_image_info(driver):\n",
    "    \"\"\"\n",
    "    This function retrieves all images from a specified webdriver.\n",
    "    \n",
    "    Parameters\n",
    "    ----------\n",
    "    driver : WebDriver\n",
    "        Google webdriver at a predetermined URL.\n",
    "\n",
    "    Returns\n",
    "    -------\n",
    "    image_dict : `dict`\n",
    "        Dictionary containing image information such as the name of the image \n",
    "        and the link to the image.    \n",
    "    \"\"\"\n",
    "\n",
    "    image_dict = {\"name\":[],\"image_Link\":[]}\n",
    "    try:\n",
    "        list_of_images = driver.find_elements(By.TAG_NAME,\"img\")\n",
    "        for images in list_of_images:\n",
    "            #Get Image Name\n",
    "            if '.png' in images.get_attribute(\"alt\"):\n",
    "                image_dict['name'].append(images.get_attribute(\"alt\"))\n",
    "            #Get Image Link\n",
    "            if images.get_attribute(\"data-src\") == None:\n",
    "                continue\n",
    "            else:\n",
    "                image_dict['image_Link'].append(images.get_attribute(\"data-src\"))\n",
    "    except Exception as e:\n",
    "        print(e)\n",
    "    \n",
    "    return image_dict"
   ]
  },
  {
   "cell_type": "markdown",
   "metadata": {},
   "source": [
    "Now that we have the image names and image links, we must match the image names to the image links.\n",
    "\n",
    "To do this, we need to search each link for the given image name.\n",
    "\n",
    "However, there are a few things we need to address and fix:\n",
    "\n",
    "    1. The image link contains the image name, with the exception that the name now has underscores vs. spaces.\n",
    "    2. The image size is not consistent (preference is 250 pixels)."
   ]
  },
  {
   "cell_type": "code",
   "execution_count": null,
   "metadata": {},
   "outputs": [],
   "source": [
    "def link_resize(image_Link_list, size = '250'):\n",
    "    \"\"\"\n",
    "    Function to resize an image given it's URL from the DayZ Wiki.\n",
    "\n",
    "    Parameters\n",
    "    ----------\n",
    "    image_Link_list : `list`\n",
    "        A list containing url links to an image on the DayZ Wiki.\n",
    "\n",
    "    size: `string`, optional\n",
    "        Value of the size of the new image.\n",
    "        Default resize value is 250 pixels.\n",
    "\n",
    "    Returns\n",
    "    -------\n",
    "    new_link_list : `list`\n",
    "        A list containing url links to an image on the DayZ Wiki\n",
    "        adjusted by the `size` parameter.\n",
    "    \"\"\"\n",
    "\n",
    "    new_link_list = []\n",
    "\n",
    "    for links in image_Link_list:\n",
    "        #Focus on section of link that needs to be changed\n",
    "        string_index = links.find('down/')\n",
    "        end_of_link = links[string_index+5:]\n",
    "        #Split link by character to isolate picture size value\n",
    "        temp_list = end_of_link.split('?')\n",
    "        #Set new size to 250 pixels\n",
    "        temp_list[0] = size\n",
    "        #Combine new size with remaining portion of the image link\n",
    "        new_link_end = temp_list[0] + '?' + temp_list[1]\n",
    "        #Replace the old size with new size\n",
    "        new_link = links.replace(end_of_link,new_link_end)\n",
    "        new_link_list.append(new_link)\n",
    "\n",
    "    return new_link_list"
   ]
  },
  {
   "cell_type": "markdown",
   "metadata": {},
   "source": [
    "Now we will match on the adjusted name and append the actual item name and image link to the dictionary."
   ]
  },
  {
   "cell_type": "code",
   "execution_count": null,
   "metadata": {},
   "outputs": [],
   "source": [
    "def match_name_to_link(image_dict):\n",
    "    \"\"\"\n",
    "    Used to match image names to their corresponding updated links in\n",
    "    a given image dictionary.\n",
    "\n",
    "    Parameters\n",
    "    ----------\n",
    "    image_dict : `dict`\n",
    "        Dictionary containing image information such as the name of the image \n",
    "        and the link to the image.\n",
    "\n",
    "    Returns\n",
    "    -------\n",
    "    final_pair: `dict`\n",
    "        Dictionary containing image name and the corresponding updated link.\n",
    "    \"\"\"\n",
    "    final_pair = {\"item_Name\":[],\"image_Link\":[]}\n",
    "    for names,adjusted_names in zip(image_dict['name'],image_dict['adjusted_name']):\n",
    "        for links in image_dict['adjusted_links']:\n",
    "            if adjusted_names in links:\n",
    "                final_pair['item_Name'].append(names)\n",
    "                final_pair['image_Link'].append(links)\n",
    "\n",
    "    return final_pair"
   ]
  },
  {
   "cell_type": "markdown",
   "metadata": {},
   "source": [
    "We also need to add the category of the items to the dictionary.\n",
    "\n",
    "We will derive the category from the URL."
   ]
  },
  {
   "cell_type": "code",
   "execution_count": null,
   "metadata": {},
   "outputs": [],
   "source": [
    "\n",
    "def get_item_category(url):\n",
    "    \"\"\"\n",
    "    Retrieve the category from the given URL and input as a column\n",
    "    in the given dictionary.\n",
    "\n",
    "    Parameters\n",
    "    ----------\n",
    "    url: `str`\n",
    "        String of the URL to retrieve image information.\n",
    "\n",
    "    Returns\n",
    "    -------\n",
    "    image_category: `str`\n",
    "        Category of the item.\n",
    "    \"\"\"\n",
    "\n",
    "    #Split the URL and grab the category\n",
    "    image_category = url.split('/')[-1]\n",
    "\n",
    "    return image_category"
   ]
  },
  {
   "cell_type": "markdown",
   "metadata": {},
   "source": [
    "Create final dataframe for the items on the page"
   ]
  },
  {
   "cell_type": "code",
   "execution_count": null,
   "metadata": {},
   "outputs": [],
   "source": [
    "def create_item_frame(final_pair,url):\n",
    "    \"\"\"\n",
    "    Create final dataframe.\n",
    "\n",
    "    Parameters\n",
    "    ----------\n",
    "    final_pair: `dict`\n",
    "        Dictionary containing image name and the corresponding updated link.\n",
    "\n",
    "    Returns\n",
    "    -------\n",
    "    item_df: `DataFrame`\n",
    "        DataFrame containing image information from the given URL and dictionary.\n",
    "    \"\"\"\n",
    "\n",
    "    #Turn the dictionary into a data frame\n",
    "    item_df = pd.DataFrame(final_pair)\n",
    "    #Set the column\n",
    "    item_df['Category'] = get_item_category(url)\n",
    "    #Fix item names\n",
    "    item_df['item_Name'] = [x.replace('.png','') for x in item_df['item_Name']]\n",
    "\n",
    "    return item_df\n",
    "    "
   ]
  },
  {
   "cell_type": "markdown",
   "metadata": {},
   "source": [
    "Use this to grab images from pages on the DayZ Wiki."
   ]
  },
  {
   "cell_type": "code",
   "execution_count": null,
   "metadata": {},
   "outputs": [],
   "source": [
    "def execute_item_scrape(driver,url):\n",
    "    \"\"\"\n",
    "    Master execution function.\n",
    "    Grab all image information from a given URL.\n",
    "\n",
    "    Parameters\n",
    "    ----------\n",
    "    driver: WebDriver\n",
    "        The WebDriver instance to use.\n",
    "\n",
    "    url: `str`\n",
    "        String of the URL to fetch image information from.\n",
    "    \n",
    "    Returns\n",
    "    -------\n",
    "    item_df: `DataFrame`\n",
    "        DataFrame containing image information from the given URL and dictionary.\n",
    "    \"\"\"\n",
    "\n",
    "    #Grab image info\n",
    "    image_dict = get_image_info(driver)\n",
    "    #Adjust image names\n",
    "    image_dict['adjusted_name'] = [name.replace(' ','_') for name in image_dict['name']]\n",
    "    #Resize images\n",
    "    image_dict['adjusted_links'] = link_resize(image_dict['image_Link'])\n",
    "    #Rematch image names to thier links\n",
    "    final_pair = match_name_to_link(image_dict)\n",
    "    #Create final frame\n",
    "    item_df = create_item_frame(final_pair,url)\n",
    "\n",
    "    return item_df"
   ]
  },
  {
   "cell_type": "code",
   "execution_count": null,
   "metadata": {},
   "outputs": [],
   "source": [
    "def get_slot_size(url,first_item,top_range,exclude_list=None):\n",
    "    \"\"\"\n",
    "    Retrieve the slot size for the given item.\n",
    "    \n",
    "    Parameters\n",
    "    ----------\n",
    "    url: `str`\n",
    "        String of the URL to fetch image information from.\n",
    "\n",
    "    first_item: `str`\n",
    "        The the name of the first item found on the page we\n",
    "        want to scrape. If the name includes spaces, you must use\n",
    "        underscores.\n",
    "\n",
    "        Example: `Apples` or `45_ACP_Rounds`\n",
    "\n",
    "    top_range: `int`\n",
    "        The number of links/items to include in the scrape.\n",
    "\n",
    "    exclude_list: `list`, optional\n",
    "        The list of items to exclude from the scrape.\n",
    "\n",
    "    Returns\n",
    "    -------\n",
    "    slot_size_dict: `dict`\n",
    "        The dictionary containing the size of the items within the given URL.\n",
    "    \"\"\"\n",
    "\n",
    "    if exclude_list is None:\n",
    "        exclude_list = []\n",
    "\n",
    "    #Set variables needed for the function\n",
    "    slot_size_dict = {'item_Name': [], 'slot_Size': []}\n",
    "\n",
    "    #List to save the link values only\n",
    "    new_refs_links = []\n",
    "\n",
    "    driver = start_driver_and_open_url(url)\n",
    "    #Get all the links from the page\n",
    "    a_refs = driver.find_elements(By.TAG_NAME,\"a\")\n",
    "\n",
    "    #Index counter to keep track of the indice of the first item in the list\n",
    "    start_point_index = 0\n",
    "\n",
    "    #LOGIC BLOCK:\n",
    "    # For each link, if the link contains the first item:\n",
    "    # Retrieve the index of the link matching the first item in the list and\n",
    "    # Calculate the ending index and\n",
    "    # Break the loop\n",
    "\n",
    "    for links in a_refs:\n",
    "        start_point_index = start_point_index + 1\n",
    "        if first_item in links.get_attribute('href'):\n",
    "            start_point_index = start_point_index - 1\n",
    "            end_point_index = start_point_index + top_range\n",
    "            break\n",
    "\n",
    "    #Set the new range for valid links\n",
    "    new_refs = a_refs[start_point_index:end_point_index]\n",
    "\n",
    "    #LOGIC BLOCK:\n",
    "    # Extract the link values and save to a new list\n",
    "    for links in new_refs:\n",
    "        site = links.get_attribute('href')\n",
    "        new_refs_links.append(site)\n",
    "\n",
    "    #LOGIC BLOCK:\n",
    "    # For each link, if the link does not contain an excluded value:\n",
    "    # 1. Open Link and focus on the information table\n",
    "    # 2. Split the information table to isolate the text area around 'Slot'\n",
    "    # 3. Split the text area around 'Slot' to isolate the slot size\n",
    "    # 4. Add information to the dictionary\n",
    "\n",
    "    for links in new_refs_links:\n",
    "        if not any(elements in links for elements in exclude_list):\n",
    "            try:\n",
    "                driver.get(links)\n",
    "                WebDriverWait(driver, 10).until(\\\n",
    "                    EC.presence_of_element_located((By.CLASS_NAME,'infobox')))\n",
    "            except Exception as e:\n",
    "                print(e)\n",
    "            slot_elements = driver.find_elements(By.TAG_NAME,\"TBODY\")\n",
    "            item_detail = slot_elements[0].get_attribute('innerText').split('\\n')\n",
    "            print(links)\n",
    "            slot_info_index = [item_detail.index(element) for element in item_detail if 'Slot' in element][0]\n",
    "            slot_size_text = item_detail[slot_info_index].replace('(','').replace(')','')\n",
    "            slot_size = [int(s) for s in slot_size_text.split() if s.isdigit()][-1]\n",
    "            slot_size_dict['item_Name'].append(links)\n",
    "            slot_size_dict['slot_Size'].append(slot_size)\n",
    "        \n",
    "    return slot_size_dict"
   ]
  },
  {
   "cell_type": "code",
   "execution_count": null,
   "metadata": {},
   "outputs": [],
   "source": [
    "ammo_url = 'https://dayz.fandom.com/wiki/Category:Ammunition'\n",
    "ammo_exclude = ['40mm_Explosive','40mm_Smoke','Dart','Ammunition','ammunition','Rocket','RPG','Loot','damage','VOG']\n",
    "ammo_slot_size = pd.DataFrame(get_slot_size(ammo_url,'22_LR_Rounds',28,exclude_list=ammo_exclude))\n",
    "ammo_slot_df = pd.DataFrame(ammo_slot_size)\n",
    "ammo_slot_df.to_csv('ammo_slot_info.csv', header=True, index=False)"
   ]
  },
  {
   "cell_type": "code",
   "execution_count": null,
   "metadata": {},
   "outputs": [],
   "source": [
    "food_url = 'https://dayz.fandom.com/wiki/Category:Food'\n",
    "food_exclude = ['Egg','Food_and_Drink','Food_decay','Fox_Steak']\n",
    "food_slot_sizes = pd.DataFrame(get_slot_size(food_url,'Apple',75,exclude_list=food_exclude))\n",
    "food_slot_df = pd.DataFrame(food_slot_sizes)\n",
    "food_slot_df.to_csv('food_slot_info.csv',header=True,index=False)"
   ]
  },
  {
   "cell_type": "code",
   "execution_count": null,
   "metadata": {},
   "outputs": [],
   "source": [
    "magazine_url = 'https://dayz.fandom.com/wiki/Category:Magazines'\n",
    "magazine_exclude = ['Speedloader','10_Round','100Rnd_Beta_C-Mag',\n",
    "\t\t\t\t '10rd_SK_59/66_Clip','10rd_Sporter_22_Mag','Snaploader',\n",
    "\t\t\t\t 'PM73','M249','Groza','Coupled','5rd_Mosin','Quiver',\n",
    "\t\t\t\t 'CO2','List','Magazines','PB_Pistol','PKM','Shock', 'Uzi']\n",
    "magazine_slot_sizes = pd.DataFrame(get_slot_size(magazine_url,'357_Speed',62,exclude_list=magazine_exclude))\n",
    "magazine_slot_df = pd.DataFrame(magazine_slot_sizes)\n",
    "magazine_slot_df.to_csv('magazine_slot_info.csv', header=True, index=False)"
   ]
  },
  {
   "cell_type": "code",
   "execution_count": null,
   "metadata": {},
   "outputs": [],
   "source": [
    "attachment_url = \"https://dayz.fandom.com/wiki/Category:Attachments\"\n",
    "attachment_exclude = ['Attachments','PSO-1-1']\n",
    "attachment_slot_sizes = pd.DataFrame(get_slot_size(attachment_url,'1PN51',55,exclude_list=attachment_exclude))\n",
    "attachment_slot_df = pd.DataFrame(attachment_slot_sizes)\n",
    "attachment_slot_df.to_csv('attachment_slot_info.csv',header=True, index=False)\n"
   ]
  },
  {
   "cell_type": "code",
   "execution_count": null,
   "metadata": {},
   "outputs": [],
   "source": [
    "equipment_url = \"https://dayz.fandom.com/wiki/Category:Equipment\"\n",
    "equipment_exclude = ['Equipment','Burlap_Sack','Gas_Canister']\n",
    "equipment_slot_sizes = pd.DataFrame(get_slot_size(equipment_url,'9V',41,exclude_list=equipment_exclude))\n",
    "equipment_slot_df = pd.DataFrame(equipment_slot_sizes)\n",
    "equipment_slot_df.to_csv('equipment_slot_info.csv',header=True, index=False)\n",
    "## Burlap Sack has a \"hotbar bonus\" that is being picked up by the 'Slots' vernacular.\n",
    "## Quick fix is to include Burlap Sack in the list of excluded items, however, we should search for the SIZE\n",
    "## keyword and parse characters from that point vs. find 'Slots' and working backwards.\n",
    "\n",
    "## Gas canister has variations (small, medium, large) which have to be parsed separately."
   ]
  },
  {
   "cell_type": "code",
   "execution_count": null,
   "metadata": {},
   "outputs": [],
   "source": [
    "driver = start_driver_and_open_url('https://dayz.fandom.com')"
   ]
  },
  {
   "cell_type": "code",
   "execution_count": null,
   "metadata": {},
   "outputs": [],
   "source": [
    "url_dictionary = {'ammunition_url':'https://dayz.fandom.com/wiki/Ammunition',\n",
    "'attachment_url':'https://dayz.fandom.com/wiki/Attachments',\n",
    "'backpack_url':'https://dayz.fandom.com/wiki/Backpack',\n",
    "'clothing_url':'https://dayz.fandom.com/wiki/Clothing',\n",
    "'equipment_url':'https://dayz.fandom.com/wiki/Equipment',\n",
    "'food_url':'https://dayz.fandom.com/wiki/Food_and_Drink',\n",
    "'magazine_url':'https://dayz.fandom.com/wiki/Magazines',\n",
    "'medical_url':'https://dayz.fandom.com/wiki/Medical_Supplies',\n",
    "'resources_url':'https://dayz.fandom.com/wiki/Resources',\n",
    "'weapons_url':'https://dayz.fandom.com/wiki/Weapons'\n",
    "}"
   ]
  },
  {
   "cell_type": "code",
   "execution_count": null,
   "metadata": {},
   "outputs": [],
   "source": [
    "df_name = []\n",
    "df_list = []\n",
    "for url_names in url_dictionary.keys():\n",
    "    #Access the URL\n",
    "    url_link = url_dictionary.get(url_names)\n",
    "    driver.get(url_link)\n",
    "    df_name.append(f'{url_names}_image_df')\n",
    "    df_list.append(execute_item_scrape(driver,url_link))\n",
    "    \n"
   ]
  },
  {
   "cell_type": "code",
   "execution_count": null,
   "metadata": {},
   "outputs": [],
   "source": [
    "master_df = pd.DataFrame()"
   ]
  },
  {
   "cell_type": "code",
   "execution_count": null,
   "metadata": {},
   "outputs": [],
   "source": [
    "for frames in df_list:\n",
    "    master_df = pd.concat([master_df,frames])"
   ]
  },
  {
   "cell_type": "code",
   "execution_count": null,
   "metadata": {},
   "outputs": [],
   "source": [
    "master_df = master_df.drop_duplicates(\n",
    "    subset = ['item_Name','image_Link'],\n",
    "    keep = 'first').reset_index(drop = True)"
   ]
  },
  {
   "cell_type": "code",
   "execution_count": null,
   "metadata": {},
   "outputs": [],
   "source": [
    "master_df = master_df.drop_duplicates().reset_index(drop = True)"
   ]
  },
  {
   "cell_type": "code",
   "execution_count": null,
   "metadata": {},
   "outputs": [],
   "source": [
    "master_df.to_csv('dayz_images_info.csv',header=True,index=False)"
   ]
  },
  {
   "cell_type": "code",
   "execution_count": null,
   "metadata": {},
   "outputs": [],
   "source": [
    "    master_df"
   ]
  },
  {
   "cell_type": "code",
   "execution_count": null,
   "metadata": {},
   "outputs": [],
   "source": []
  }
 ],
 "metadata": {
  "kernelspec": {
   "display_name": "Python 3.10.1 64-bit ('dayzmode': venv)",
   "language": "python",
   "name": "python3"
  },
  "language_info": {
   "codemirror_mode": {
    "name": "ipython",
    "version": 3
   },
   "file_extension": ".py",
   "mimetype": "text/x-python",
   "name": "python",
   "nbconvert_exporter": "python",
   "pygments_lexer": "ipython3",
   "version": "3.10.1"
  },
  "orig_nbformat": 4,
  "vscode": {
   "interpreter": {
    "hash": "d40dfdef5eff8e9508df0e14ef5945955332b47e6d5b1ed7adc30f945f9aa3eb"
   }
  }
 },
 "nbformat": 4,
 "nbformat_minor": 2
}
