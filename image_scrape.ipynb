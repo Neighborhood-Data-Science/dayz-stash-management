{
 "cells": [
  {
   "cell_type": "code",
   "execution_count": 1,
   "metadata": {},
   "outputs": [
    {
     "name": "stderr",
     "output_type": "stream",
     "text": [
      "Python-dotenv could not parse statement starting at line 1\n"
     ]
    }
   ],
   "source": [
    "import pandas as pd\n",
    "from selenium import webdriver\n",
    "from selenium.webdriver.chrome.options import Options\n",
    "from selenium.webdriver.chrome.service import Service\n",
    "from selenium.webdriver.common.by import By\n",
    "\n",
    "from webdriver_manager.chrome import ChromeDriverManager\n",
    "from selenium.webdriver.support.ui import WebDriverWait\n",
    "from selenium.webdriver.support import expected_conditions as EC\n",
    "\n",
    "#Set options to run Chrome in 'Headless' mode\n",
    "chrome_options = Options()\n",
    "chrome_options.add_argument(\"--no-sandbox\")\n",
    "chrome_options.add_argument(\"--window-size=1920x1080\")\n"
   ]
  },
  {
   "cell_type": "code",
   "execution_count": 2,
   "metadata": {},
   "outputs": [
    {
     "name": "stdout",
     "output_type": "stream",
     "text": [
      "\n"
     ]
    }
   ],
   "source": [
    "driver = webdriver.Chrome(service=Service(ChromeDriverManager().install()),options=chrome_options)"
   ]
  },
  {
   "cell_type": "code",
   "execution_count": 3,
   "metadata": {},
   "outputs": [],
   "source": [
    "url = \"https://dayz.fandom.com/wiki/Ammunition\"\n",
    "driver.get(url)"
   ]
  },
  {
   "cell_type": "markdown",
   "metadata": {},
   "source": [
    "This creates a dictionary of lists containing all the image names and image URLs found on the webpage.\n",
    "\n",
    "If the image name has an extension of `.png`, then it is pulled into the dictionary.\n",
    "\n",
    "If the image has an associated link, then it is pulled into the dictionary."
   ]
  },
  {
   "cell_type": "code",
   "execution_count": 4,
   "metadata": {},
   "outputs": [],
   "source": [
    "def get_image_info(driver):\n",
    "    \"\"\"\n",
    "    This function retrieves all images from a specified webdriver.\n",
    "    \n",
    "    Parameters\n",
    "    ----------\n",
    "    driver : WebDriver\n",
    "        Google webdriver at a predetermined URL.\n",
    "\n",
    "    Returns\n",
    "    -------\n",
    "    image_dict : `dict`\n",
    "        Dictionary containing image information such as the name of the image \n",
    "        and the link to the image.    \n",
    "    \"\"\"\n",
    "\n",
    "    image_dict = {\"name\":[],\"image_link\":[]}\n",
    "    list_of_images = driver.find_elements(By.TAG_NAME,\"img\")\n",
    "    for images in list_of_images:\n",
    "        #Get Image Name\n",
    "        if '.png' in images.get_attribute(\"alt\"):\n",
    "            image_dict['name'].append(images.get_attribute(\"alt\"))\n",
    "        #Get Image Link\n",
    "        if images.get_attribute(\"data-src\") == None:\n",
    "            continue\n",
    "        else:\n",
    "            image_dict['image_link'].append(images.get_attribute(\"data-src\"))\n",
    "    \n",
    "    return image_dict"
   ]
  },
  {
   "cell_type": "code",
   "execution_count": 5,
   "metadata": {},
   "outputs": [],
   "source": [
    "image_dict = get_image_info(driver)"
   ]
  },
  {
   "cell_type": "markdown",
   "metadata": {},
   "source": [
    "Now that we have the image names and image links, we must match the image names to the image links.\n",
    "\n",
    "To do this, we need to search each link for the given image name.\n",
    "\n",
    "However, there are a few things we need to address and fix:\n",
    "\n",
    "    1. The image link contains the image name, with the exception that the name now has underscores vs. spaces.\n",
    "    2. The image size is not consistent (preference is 250 pixels)."
   ]
  },
  {
   "cell_type": "code",
   "execution_count": 6,
   "metadata": {},
   "outputs": [
    {
     "name": "stdout",
     "output_type": "stream",
     "text": [
      "    Original Name: AmmoBox 22 50Rnd.png\n",
      "    Adjusted Name: AmmoBox_22_50Rnd.png\n"
     ]
    }
   ],
   "source": [
    "image_dict['adjusted_name'] = [name.replace(' ','_') for name in image_dict['name']]\n",
    "print(f'    Original Name: {image_dict[\"name\"][2]}\\n    Adjusted Name: {image_dict[\"adjusted_name\"][2]}')"
   ]
  },
  {
   "cell_type": "code",
   "execution_count": 7,
   "metadata": {},
   "outputs": [],
   "source": [
    "def link_resize(image_link_list, size = '250'):\n",
    "    \"\"\"\n",
    "    Function to resize an image given it's URL from the DayZ Wiki.\n",
    "\n",
    "    Parameters\n",
    "    ----------\n",
    "    image_link_list : `list`\n",
    "        A list containing url links to an image on the DayZ Wiki.\n",
    "\n",
    "    size: `string`, optional\n",
    "        Value of the size of the new image.\n",
    "        Default resize value is 250 pixels.\n",
    "\n",
    "    Returns\n",
    "    -------\n",
    "    new_link_list : `list`\n",
    "        A list containing url links to an image on the DayZ Wiki\n",
    "        adjusted by the `size` parameter.\n",
    "    \"\"\"\n",
    "\n",
    "    new_link_list = []\n",
    "\n",
    "    for links in image_link_list:\n",
    "        #Focus on section of link that needs to be changed\n",
    "        string_index = links.find('down/')\n",
    "        end_of_link = links[string_index+5:]\n",
    "        #Split link by character to isolate picture size value\n",
    "        temp_list = end_of_link.split('?')\n",
    "        #Set new size to 250 pixels\n",
    "        temp_list[0] = size\n",
    "        #Combine new size with remaining portion of the image link\n",
    "        new_link_end = temp_list[0] + '?' + temp_list[1]\n",
    "        #Replace the old size with new size\n",
    "        new_link = links.replace(end_of_link,new_link_end)\n",
    "        new_link_list.append(new_link)\n",
    "\n",
    "    return new_link_list"
   ]
  },
  {
   "cell_type": "code",
   "execution_count": 8,
   "metadata": {},
   "outputs": [],
   "source": [
    "image_dict['adjusted_links'] = link_resize(image_dict['image_link'])"
   ]
  },
  {
   "cell_type": "markdown",
   "metadata": {},
   "source": [
    "Now we will match on the adjusted name and append the actual item name and image link to the dictionary."
   ]
  },
  {
   "cell_type": "code",
   "execution_count": 9,
   "metadata": {},
   "outputs": [],
   "source": [
    "def match_name_to_link(image_dict):\n",
    "    \"\"\"\n",
    "    Used to match image names to their corresponding updated links in\n",
    "    a given image dictionary.\n",
    "\n",
    "    Parameters\n",
    "    ----------\n",
    "    image_dict : `dict`\n",
    "        Dictionary containing image information such as the name of the image \n",
    "        and the link to the image.\n",
    "\n",
    "    Returns\n",
    "    -------\n",
    "    final_pairing: `dict`\n",
    "        Dictionary containing image name and the corresponding updated link.\n",
    "    \"\"\"\n",
    "    final_pair = {\"item_Name\":[],\"image_link\":[]}\n",
    "    for names,adjusted_names in zip(image_dict['name'],image_dict['adjusted_name']):\n",
    "        for links in image_dict['adjusted_links']:\n",
    "            if adjusted_names in links:\n",
    "                final_pair['item_Name'].append(names)\n",
    "                final_pair['image_link'].append(links)\n",
    "\n",
    "    return final_pair"
   ]
  },
  {
   "cell_type": "code",
   "execution_count": 10,
   "metadata": {},
   "outputs": [],
   "source": [
    "final_pair = match_name_to_link(image_dict)\n",
    "ammunition_page = pd.DataFrame(final_pair)"
   ]
  },
  {
   "cell_type": "markdown",
   "metadata": {},
   "source": [
    "Use this space to grab additional images from other pages on the DayZ Wiki."
   ]
  },
  {
   "cell_type": "code",
   "execution_count": 11,
   "metadata": {},
   "outputs": [],
   "source": [
    "def get_stuff(driver):\n",
    "    image_dict = get_image_info(driver)\n",
    "    #Adjust image names\n",
    "    image_dict['adjusted_name'] = [name.replace(' ','_') for name in image_dict['name']]\n",
    "    #Resize images\n",
    "    image_dict['adjusted_links'] = link_resize(image_dict['image_link'])\n",
    "    #Rematch image names to thier links\n",
    "    final_pair = match_name_to_link(image_dict)\n",
    "    return final_pair"
   ]
  },
  {
   "cell_type": "code",
   "execution_count": 12,
   "metadata": {},
   "outputs": [],
   "source": [
    "\n",
    "driver.get(\"https://dayz.fandom.com/wiki/Attachments\")\n",
    "attachment_page = pd.DataFrame(get_stuff(driver))"
   ]
  },
  {
   "cell_type": "code",
   "execution_count": 13,
   "metadata": {},
   "outputs": [],
   "source": [
    "driver.get('https://dayz.fandom.com/wiki/Magazines')\n",
    "magazine_page = pd.DataFrame(get_stuff(driver))"
   ]
  },
  {
   "cell_type": "code",
   "execution_count": 14,
   "metadata": {},
   "outputs": [],
   "source": [
    "driver.get('https://dayz.fandom.com/wiki/Weapons')\n",
    "weapons_page = pd.DataFrame(get_stuff(driver))"
   ]
  },
  {
   "cell_type": "code",
   "execution_count": 15,
   "metadata": {},
   "outputs": [],
   "source": [
    "driver.get('https://dayz.fandom.com/wiki/Resources')\n",
    "resource_page = pd.DataFrame(get_stuff(driver))"
   ]
  },
  {
   "cell_type": "code",
   "execution_count": 16,
   "metadata": {},
   "outputs": [],
   "source": [
    "driver.get('https://dayz.fandom.com/wiki/Equipment')\n",
    "equipment_page = pd.DataFrame(get_stuff(driver))"
   ]
  },
  {
   "cell_type": "code",
   "execution_count": 17,
   "metadata": {},
   "outputs": [],
   "source": [
    "driver.get('https://dayz.fandom.com/wiki/Clothing')\n",
    "clothing_info = pd.DataFrame(get_stuff(driver))"
   ]
  },
  {
   "cell_type": "code",
   "execution_count": 18,
   "metadata": {},
   "outputs": [],
   "source": [
    "driver.get('https://dayz.fandom.com/wiki/Medical_Supplies')\n",
    "medical_stuff = pd.DataFrame(get_stuff(driver))"
   ]
  },
  {
   "cell_type": "code",
   "execution_count": 19,
   "metadata": {},
   "outputs": [],
   "source": [
    "driver.get('https://dayz.fandom.com/wiki/Backpack')\n",
    "backpack_info = pd.DataFrame(get_stuff(driver))"
   ]
  },
  {
   "cell_type": "code",
   "execution_count": 20,
   "metadata": {},
   "outputs": [],
   "source": [
    "driver.get('https://dayz.fandom.com/wiki/Food_and_Drink')\n",
    "food_and_drink = pd.DataFrame(get_stuff(driver))"
   ]
  },
  {
   "cell_type": "code",
   "execution_count": 21,
   "metadata": {},
   "outputs": [],
   "source": [
    "all_items_and_links = pd.concat([\n",
    "    ammunition_page,attachment_page,backpack_info,clothing_info,\n",
    "    equipment_page,food_and_drink,magazine_page,medical_stuff,\n",
    "    resource_page,weapons_page]).drop_duplicates().reset_index(drop=True)"
   ]
  },
  {
   "cell_type": "code",
   "execution_count": 22,
   "metadata": {},
   "outputs": [
    {
     "data": {
      "text/html": [
       "<div>\n",
       "<style scoped>\n",
       "    .dataframe tbody tr th:only-of-type {\n",
       "        vertical-align: middle;\n",
       "    }\n",
       "\n",
       "    .dataframe tbody tr th {\n",
       "        vertical-align: top;\n",
       "    }\n",
       "\n",
       "    .dataframe thead th {\n",
       "        text-align: right;\n",
       "    }\n",
       "</style>\n",
       "<table border=\"1\" class=\"dataframe\">\n",
       "  <thead>\n",
       "    <tr style=\"text-align: right;\">\n",
       "      <th></th>\n",
       "      <th>item_Name</th>\n",
       "      <th>image_link</th>\n",
       "    </tr>\n",
       "  </thead>\n",
       "  <tbody>\n",
       "    <tr>\n",
       "      <th>0</th>\n",
       "      <td>Sporter 22 Wood.png</td>\n",
       "      <td>https://static.wikia.nocookie.net/dayz_gameped...</td>\n",
       "    </tr>\n",
       "    <tr>\n",
       "      <th>1</th>\n",
       "      <td>15rd Sporter 22 Mag.png</td>\n",
       "      <td>https://static.wikia.nocookie.net/dayz_gameped...</td>\n",
       "    </tr>\n",
       "    <tr>\n",
       "      <th>2</th>\n",
       "      <td>30 rnd 22 mag.png</td>\n",
       "      <td>https://static.wikia.nocookie.net/dayz_gameped...</td>\n",
       "    </tr>\n",
       "    <tr>\n",
       "      <th>3</th>\n",
       "      <td>Ammo 380.png</td>\n",
       "      <td>https://static.wikia.nocookie.net/dayz_gameped...</td>\n",
       "    </tr>\n",
       "    <tr>\n",
       "      <th>4</th>\n",
       "      <td>AmmoBox 380 35Rnd.png</td>\n",
       "      <td>https://static.wikia.nocookie.net/dayz_gameped...</td>\n",
       "    </tr>\n",
       "    <tr>\n",
       "      <th>...</th>\n",
       "      <td>...</td>\n",
       "      <td>...</td>\n",
       "    </tr>\n",
       "    <tr>\n",
       "      <th>9120</th>\n",
       "      <td>Plastic Explosive.png</td>\n",
       "      <td>https://static.wikia.nocookie.net/dayz_gameped...</td>\n",
       "    </tr>\n",
       "    <tr>\n",
       "      <th>9121</th>\n",
       "      <td>Improvised Explosive.png</td>\n",
       "      <td>https://static.wikia.nocookie.net/dayz_gameped...</td>\n",
       "    </tr>\n",
       "    <tr>\n",
       "      <th>9122</th>\n",
       "      <td>LandMine.png</td>\n",
       "      <td>https://static.wikia.nocookie.net/dayz_gameped...</td>\n",
       "    </tr>\n",
       "    <tr>\n",
       "      <th>9123</th>\n",
       "      <td>RGD-5 Grenade.png</td>\n",
       "      <td>https://static.wikia.nocookie.net/dayz_gameped...</td>\n",
       "    </tr>\n",
       "    <tr>\n",
       "      <th>9124</th>\n",
       "      <td>M67Grenade.png</td>\n",
       "      <td>https://static.wikia.nocookie.net/dayz_gameped...</td>\n",
       "    </tr>\n",
       "  </tbody>\n",
       "</table>\n",
       "<p>517 rows × 2 columns</p>\n",
       "</div>"
      ],
      "text/plain": [
       "                     item_Name  \\\n",
       "0          Sporter 22 Wood.png   \n",
       "1      15rd Sporter 22 Mag.png   \n",
       "2            30 rnd 22 mag.png   \n",
       "3                 Ammo 380.png   \n",
       "4        AmmoBox 380 35Rnd.png   \n",
       "...                        ...   \n",
       "9120     Plastic Explosive.png   \n",
       "9121  Improvised Explosive.png   \n",
       "9122              LandMine.png   \n",
       "9123         RGD-5 Grenade.png   \n",
       "9124            M67Grenade.png   \n",
       "\n",
       "                                             image_link  \n",
       "0     https://static.wikia.nocookie.net/dayz_gameped...  \n",
       "1     https://static.wikia.nocookie.net/dayz_gameped...  \n",
       "2     https://static.wikia.nocookie.net/dayz_gameped...  \n",
       "3     https://static.wikia.nocookie.net/dayz_gameped...  \n",
       "4     https://static.wikia.nocookie.net/dayz_gameped...  \n",
       "...                                                 ...  \n",
       "9120  https://static.wikia.nocookie.net/dayz_gameped...  \n",
       "9121  https://static.wikia.nocookie.net/dayz_gameped...  \n",
       "9122  https://static.wikia.nocookie.net/dayz_gameped...  \n",
       "9123  https://static.wikia.nocookie.net/dayz_gameped...  \n",
       "9124  https://static.wikia.nocookie.net/dayz_gameped...  \n",
       "\n",
       "[517 rows x 2 columns]"
      ]
     },
     "execution_count": 22,
     "metadata": {},
     "output_type": "execute_result"
    }
   ],
   "source": [
    "all_items_and_links"
   ]
  },
  {
   "cell_type": "code",
   "execution_count": null,
   "metadata": {},
   "outputs": [],
   "source": []
  }
 ],
 "metadata": {
  "kernelspec": {
   "display_name": "Python 3.10.1 ('dayzmode': venv)",
   "language": "python",
   "name": "python3"
  },
  "language_info": {
   "codemirror_mode": {
    "name": "ipython",
    "version": 3
   },
   "file_extension": ".py",
   "mimetype": "text/x-python",
   "name": "python",
   "nbconvert_exporter": "python",
   "pygments_lexer": "ipython3",
   "version": "3.10.1"
  },
  "orig_nbformat": 4,
  "vscode": {
   "interpreter": {
    "hash": "d40dfdef5eff8e9508df0e14ef5945955332b47e6d5b1ed7adc30f945f9aa3eb"
   }
  }
 },
 "nbformat": 4,
 "nbformat_minor": 2
}
