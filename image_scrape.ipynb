{
 "cells": [
  {
   "cell_type": "code",
   "execution_count": 1,
   "metadata": {},
   "outputs": [],
   "source": [
    "import pandas as pd\n",
    "import sys\n",
    "import time\n",
    "import requests\n",
    "from selenium import webdriver\n",
    "from selenium.webdriver.chrome.options import Options\n",
    "from selenium.webdriver.chrome.service import Service\n",
    "from selenium.webdriver.common.by import By\n",
    "\n",
    "from webdriver_manager.chrome import ChromeDriverManager\n",
    "from selenium.webdriver.support.ui import WebDriverWait\n",
    "from selenium.webdriver.support import expected_conditions as EC\n",
    "\n",
    "#Set options to run Chrome in 'Headless' mode\n",
    "chrome_options = Options()\n",
    "chrome_options.add_argument(\"--no-sandbox\")\n",
    "chrome_options.add_argument(\"--window-size=1920x1080\")\n"
   ]
  },
  {
   "cell_type": "code",
   "execution_count": 2,
   "metadata": {},
   "outputs": [],
   "source": [
    "def start_driver_and_open_url(url):\n",
    "    \"\"\"\n",
    "    Starts a webdriver and opens the given URL.\n",
    "\n",
    "    Parameters\n",
    "    ----------\n",
    "    url: `str`\n",
    "        String of the URL to retrieve image information.\n",
    "\n",
    "    Returns\n",
    "    -------\n",
    "    driver : WebDriver\n",
    "        Google webdriver at a predetermined URL.\n",
    "    \"\"\"\n",
    "\n",
    "    #This installs the latest version of the official Google chromedriver\n",
    "    #Accesses cached version if present.\n",
    "\n",
    "    #Initialize variable\n",
    "    driver = None\n",
    "\n",
    "    #Opens driver. Installs if not present.\n",
    "    try:\n",
    "        driver = webdriver.Chrome(service=Service(ChromeDriverManager().install()),\\\n",
    "                options=chrome_options)\n",
    "    except Exception as err:\n",
    "        print(f\"'Setting Driver Error: {err}'\")\n",
    "        sys.exit(0)\n",
    "\n",
    "    #Set URL\n",
    "    driver.get(url)\n",
    "    \n",
    "    return driver"
   ]
  },
  {
   "cell_type": "markdown",
   "metadata": {},
   "source": [
    "This creates a dictionary of lists containing all the image names and image URLs found on the webpage.\n",
    "\n",
    "If the image name has an extension of `.png`, then it is pulled into the dictionary.\n",
    "\n",
    "If the image has an associated link, then it is pulled into the dictionary."
   ]
  },
  {
   "cell_type": "code",
   "execution_count": 3,
   "metadata": {},
   "outputs": [],
   "source": [
    "def get_image_info(driver):\n",
    "    \"\"\"\n",
    "    This function retrieves all images from a specified webdriver.\n",
    "    \n",
    "    Parameters\n",
    "    ----------\n",
    "    driver : WebDriver\n",
    "        Google webdriver at a predetermined URL.\n",
    "\n",
    "    Returns\n",
    "    -------\n",
    "    image_dict : `dict`\n",
    "        Dictionary containing image information such as the name of the image \n",
    "        and the link to the image.    \n",
    "    \"\"\"\n",
    "\n",
    "    image_dict = {\"name\":[],\"image_Link\":[]}\n",
    "    try:\n",
    "        list_of_images = driver.find_elements(By.TAG_NAME,\"img\")\n",
    "        for images in list_of_images:\n",
    "            #Get Image Name\n",
    "            if '.png' in images.get_attribute(\"alt\"):\n",
    "                image_dict['name'].append(images.get_attribute(\"alt\"))\n",
    "            #Get Image Link\n",
    "            if images.get_attribute(\"data-src\") == None:\n",
    "                continue\n",
    "            else:\n",
    "                image_dict['image_Link'].append(images.get_attribute(\"data-src\"))\n",
    "    except Exception as e:\n",
    "        print(e)\n",
    "    \n",
    "    return image_dict"
   ]
  },
  {
   "cell_type": "markdown",
   "metadata": {},
   "source": [
    "Now that we have the image names and image links, we must match the image names to the image links.\n",
    "\n",
    "To do this, we need to search each link for the given image name.\n",
    "\n",
    "However, there are a few things we need to address and fix:\n",
    "\n",
    "    1. The image link contains the image name, with the exception that the name now has underscores vs. spaces.\n",
    "    2. The image size is not consistent (preference is 250 pixels)."
   ]
  },
  {
   "cell_type": "code",
   "execution_count": 4,
   "metadata": {},
   "outputs": [],
   "source": [
    "def link_resize(image_Link_list, size = '250'):\n",
    "    \"\"\"\n",
    "    Function to resize an image given it's URL from the DayZ Wiki.\n",
    "\n",
    "    Parameters\n",
    "    ----------\n",
    "    image_Link_list : `list`\n",
    "        A list containing url links to an image on the DayZ Wiki.\n",
    "\n",
    "    size: `string`, optional\n",
    "        Value of the size of the new image.\n",
    "        Default resize value is 250 pixels.\n",
    "\n",
    "    Returns\n",
    "    -------\n",
    "    new_link_list : `list`\n",
    "        A list containing url links to an image on the DayZ Wiki\n",
    "        adjusted by the `size` parameter.\n",
    "    \"\"\"\n",
    "\n",
    "    new_link_list = []\n",
    "\n",
    "    for links in image_Link_list:\n",
    "        #Focus on section of link that needs to be changed\n",
    "        string_index = links.find('down/')\n",
    "        end_of_link = links[string_index+5:]\n",
    "        #Split link by character to isolate picture size value\n",
    "        temp_list = end_of_link.split('?')\n",
    "        #Set new size to 250 pixels\n",
    "        temp_list[0] = size\n",
    "        #Combine new size with remaining portion of the image link\n",
    "        new_link_end = temp_list[0] + '?' + temp_list[1]\n",
    "        #Replace the old size with new size\n",
    "        new_link = links.replace(end_of_link,new_link_end)\n",
    "        new_link_list.append(new_link)\n",
    "\n",
    "    return new_link_list"
   ]
  },
  {
   "cell_type": "markdown",
   "metadata": {},
   "source": [
    "Now we will match on the adjusted name and append the actual item name and image link to the dictionary."
   ]
  },
  {
   "cell_type": "code",
   "execution_count": 5,
   "metadata": {},
   "outputs": [],
   "source": [
    "def match_name_to_link(image_dict):\n",
    "    \"\"\"\n",
    "    Used to match image names to their corresponding updated links in\n",
    "    a given image dictionary.\n",
    "\n",
    "    Parameters\n",
    "    ----------\n",
    "    image_dict : `dict`\n",
    "        Dictionary containing image information such as the name of the image \n",
    "        and the link to the image.\n",
    "\n",
    "    Returns\n",
    "    -------\n",
    "    final_pair: `dict`\n",
    "        Dictionary containing image name and the corresponding updated link.\n",
    "    \"\"\"\n",
    "    final_pair = {\"item_Name\":[],\"image_Link\":[]}\n",
    "    for names,adjusted_names in zip(image_dict['name'],image_dict['adjusted_name']):\n",
    "        for links in image_dict['adjusted_links']:\n",
    "            if adjusted_names in links:\n",
    "                final_pair['item_Name'].append(names)\n",
    "                final_pair['image_Link'].append(links)\n",
    "\n",
    "    return final_pair"
   ]
  },
  {
   "cell_type": "markdown",
   "metadata": {},
   "source": [
    "We also need to add the category of the items to the dictionary.\n",
    "\n",
    "We will derive the category from the URL."
   ]
  },
  {
   "cell_type": "code",
   "execution_count": 6,
   "metadata": {},
   "outputs": [],
   "source": [
    "\n",
    "def get_item_category(url):\n",
    "    \"\"\"\n",
    "    Retrieve the category from the given URL and input as a column\n",
    "    in the given dictionary.\n",
    "\n",
    "    Parameters\n",
    "    ----------\n",
    "    url: `str`\n",
    "        String of the URL to retrieve image information.\n",
    "\n",
    "    Returns\n",
    "    -------\n",
    "    image_category: `str`\n",
    "        Category of the item.\n",
    "    \"\"\"\n",
    "\n",
    "    #Split the URL and grab the category\n",
    "    image_category = url.split('/')[-1]\n",
    "\n",
    "    return image_category\n"
   ]
  },
  {
   "cell_type": "markdown",
   "metadata": {},
   "source": [
    "Create final dataframe for the items on the page"
   ]
  },
  {
   "cell_type": "code",
   "execution_count": 7,
   "metadata": {},
   "outputs": [],
   "source": [
    "def create_item_frame(final_pair,url):\n",
    "    \"\"\"\n",
    "    Create final dataframe.\n",
    "\n",
    "    Parameters\n",
    "    ----------\n",
    "    final_pair: `dict`\n",
    "        Dictionary containing image name and the corresponding updated link.\n",
    "\n",
    "    Returns\n",
    "    -------\n",
    "    item_df: `DataFrame`\n",
    "        DataFrame containing image information from the given URL and dictionary.\n",
    "    \"\"\"\n",
    "\n",
    "    #Turn the dictionary into a data frame\n",
    "    item_df = pd.DataFrame(final_pair)\n",
    "    #Set the column\n",
    "    item_df['Category'] = get_item_category(url)\n",
    "    #Fix item names\n",
    "    item_df['item_Name'] = [x.replace('.png','') for x in item_df['item_Name']]\n",
    "\n",
    "    return item_df\n",
    "    "
   ]
  },
  {
   "cell_type": "markdown",
   "metadata": {},
   "source": [
    "Use this to grab images from pages on the DayZ Wiki."
   ]
  },
  {
   "cell_type": "code",
   "execution_count": 8,
   "metadata": {},
   "outputs": [],
   "source": [
    "def execute_item_scrape(driver,url):\n",
    "    \"\"\"\n",
    "    Master execution function.\n",
    "    Grab all image information from a given URL.\n",
    "\n",
    "    Parameters\n",
    "    ----------\n",
    "    driver: WebDriver\n",
    "        The WebDriver instance to use.\n",
    "\n",
    "    url: `str`\n",
    "        String of the URL to fetch image information from.\n",
    "    \n",
    "    Returns\n",
    "    -------\n",
    "    item_df: `DataFrame`\n",
    "        DataFrame containing image information from the given URL and dictionary.\n",
    "    \"\"\"\n",
    "\n",
    "    #Grab image info\n",
    "    image_dict = get_image_info(driver)\n",
    "    #Adjust image names\n",
    "    image_dict['adjusted_name'] = [name.replace(' ','_') for name in image_dict['name']]\n",
    "    #Resize images\n",
    "    image_dict['adjusted_links'] = link_resize(image_dict['image_Link'])\n",
    "    #Rematch image names to thier links\n",
    "    final_pair = match_name_to_link(image_dict)\n",
    "    #Create final frame\n",
    "    item_df = create_item_frame(final_pair,url)\n",
    "\n",
    "    return item_df"
   ]
  },
  {
   "cell_type": "code",
   "execution_count": 9,
   "metadata": {},
   "outputs": [],
   "source": [
    "def get_slot_size(driver,item_Name_with_png):\n",
    "    \"\"\"\n",
    "    Retrieve the slot size for the given item.\n",
    "    \n",
    "    Parameters\n",
    "    ----------\n",
    "    driver : WebDriver\n",
    "        The WebDriver instance to use.\n",
    "\n",
    "    item_Name_with_png: `str`\n",
    "        The name of the item to retrieve the slot size for.\n",
    "        This must have the .png extension attached.\n",
    "\n",
    "    Returns\n",
    "    -------\n",
    "    slot_size: `int`\n",
    "        The slot size for the item.\n",
    "    \"\"\"\n",
    "\n",
    "    item_Name = item_Name_with_png.replace('.png','')\n",
    "    driver.get(f'https://dayz.fandom.com/wiki/{item_Name}')\n",
    "    \n",
    "\n",
    "    \n"
   ]
  },
  {
   "cell_type": "code",
   "execution_count": 97,
   "metadata": {},
   "outputs": [
    {
     "name": "stdout",
     "output_type": "stream",
     "text": [
      "\n"
     ]
    }
   ],
   "source": [
    "driver = start_driver_and_open_url('https://dayz.fandom.com/wiki/Category:Food')"
   ]
  },
  {
   "cell_type": "code",
   "execution_count": 98,
   "metadata": {},
   "outputs": [],
   "source": [
    "a_refs = driver.find_elements(By.TAG_NAME,\"a\")"
   ]
  },
  {
   "cell_type": "code",
   "execution_count": 99,
   "metadata": {},
   "outputs": [],
   "source": [
    "start_point_index = 0\n",
    "\n",
    "# Insert the name of the first item found on the page we\n",
    "# want to scrape\n",
    "first_item_in_list = 'Apple'\n",
    "\n",
    "# This is the number of links/items to include in the scrape.\n",
    "top_range = 5\n",
    "\n",
    "for links in a_refs:\n",
    "    start_point_index = start_point_index + 1\n",
    "    if first_item_in_list in links.get_attribute('href'):\n",
    "        start_point_index = start_point_index - 1\n",
    "        end_point_index = start_point_index + top_range\n",
    "        break\n"
   ]
  },
  {
   "cell_type": "code",
   "execution_count": 101,
   "metadata": {},
   "outputs": [],
   "source": [
    "new_refs = a_refs[start_point_index:end_point_index]\n",
    "new_refs_links = []\n",
    "for links in new_refs:\n",
    "    site = links.get_attribute('href')\n",
    "    new_refs_links.append(site)\n",
    "\n"
   ]
  },
  {
   "cell_type": "code",
   "execution_count": 103,
   "metadata": {},
   "outputs": [
    {
     "name": "stdout",
     "output_type": "stream",
     "text": [
      "1\n",
      "2\n",
      "4\n",
      "2\n",
      "2\n"
     ]
    }
   ],
   "source": [
    "for links in new_refs_links:\n",
    "    driver.get(links)\n",
    "    slot_elements = driver.find_elements(By.TAG_NAME,\"TBODY\")\n",
    "    item_detail = slot_elements[0].get_attribute('innerText').split('\\n')\n",
    "    slot_info_index = [item_detail.index(element) for element in item_detail if 'Slot' in element][0]\n",
    "    slot_size_text = item_detail[slot_info_index].replace('(','').replace(')','')\n",
    "    slot_size = [int(s) for s in slot_size_text.split() if s.isdigit()][-1]\n",
    "    print(slot_size)\n"
   ]
  },
  {
   "cell_type": "code",
   "execution_count": null,
   "metadata": {},
   "outputs": [],
   "source": []
  },
  {
   "cell_type": "code",
   "execution_count": null,
   "metadata": {},
   "outputs": [],
   "source": []
  },
  {
   "cell_type": "code",
   "execution_count": null,
   "metadata": {},
   "outputs": [],
   "source": []
  },
  {
   "cell_type": "code",
   "execution_count": 27,
   "metadata": {},
   "outputs": [],
   "source": [
    "list_of_images = driver.find_elements(By.TAG_NAME,\"img\")"
   ]
  },
  {
   "cell_type": "code",
   "execution_count": 30,
   "metadata": {},
   "outputs": [
    {
     "data": {
      "text/plain": [
       "''"
      ]
     },
     "execution_count": 30,
     "metadata": {},
     "output_type": "execute_result"
    }
   ],
   "source": [
    "list_of_images[4].get_attribute('title')"
   ]
  },
  {
   "cell_type": "code",
   "execution_count": null,
   "metadata": {},
   "outputs": [],
   "source": [
    "for images in list_of_images:\n",
    "    #Get Image Name\n",
    "    if '.png' in images.get_attribute(\"alt\"):"
   ]
  },
  {
   "cell_type": "code",
   "execution_count": null,
   "metadata": {},
   "outputs": [],
   "source": [
    "list_of_images = driver.find_elements(By.TAG_NAME,\"img\")\n",
    "for images in list_of_images:\n",
    "    #Get Image Name\n",
    "    if '.png' in images.get_attribute(\"alt\"):\n",
    "        image_dict['name'].append(images.get_attribute(\"alt\"))\n",
    "    #Get Image Link\n",
    "    if images.get_attribute(\"data-src\") == None:\n",
    "        continue\n",
    "    else:\n",
    "        image_dict['image_Link'].append(images.get_attribute(\"data-src\"))\n",
    "except Exception as e:"
   ]
  },
  {
   "cell_type": "code",
   "execution_count": 23,
   "metadata": {},
   "outputs": [
    {
     "ename": "UnboundLocalError",
     "evalue": "local variable 'item_Name' referenced before assignment",
     "output_type": "error",
     "traceback": [
      "\u001b[0;31m---------------------------------------------------------------------------\u001b[0m",
      "\u001b[0;31mUnboundLocalError\u001b[0m                         Traceback (most recent call last)",
      "\u001b[1;32m/Users/brandonsavone/Desktop/GitHub/dayz-stash-management/image_scrape.ipynb Cell 17\u001b[0m in \u001b[0;36m<cell line: 1>\u001b[0;34m()\u001b[0m\n\u001b[0;32m----> <a href='vscode-notebook-cell:/Users/brandonsavone/Desktop/GitHub/dayz-stash-management/image_scrape.ipynb#X35sZmlsZQ%3D%3D?line=0'>1</a>\u001b[0m image_dict[\u001b[39m'\u001b[39m\u001b[39mslot_Size\u001b[39m\u001b[39m'\u001b[39m] \u001b[39m=\u001b[39m [get_slot_size(driver,item) \u001b[39mfor\u001b[39;00m item \u001b[39min\u001b[39;00m image_dict[\u001b[39m'\u001b[39m\u001b[39madjusted_name\u001b[39m\u001b[39m'\u001b[39m]]\n",
      "\u001b[1;32m/Users/brandonsavone/Desktop/GitHub/dayz-stash-management/image_scrape.ipynb Cell 17\u001b[0m in \u001b[0;36m<listcomp>\u001b[0;34m(.0)\u001b[0m\n\u001b[0;32m----> <a href='vscode-notebook-cell:/Users/brandonsavone/Desktop/GitHub/dayz-stash-management/image_scrape.ipynb#X35sZmlsZQ%3D%3D?line=0'>1</a>\u001b[0m image_dict[\u001b[39m'\u001b[39m\u001b[39mslot_Size\u001b[39m\u001b[39m'\u001b[39m] \u001b[39m=\u001b[39m [get_slot_size(driver,item) \u001b[39mfor\u001b[39;00m item \u001b[39min\u001b[39;00m image_dict[\u001b[39m'\u001b[39m\u001b[39madjusted_name\u001b[39m\u001b[39m'\u001b[39m]]\n",
      "\u001b[1;32m/Users/brandonsavone/Desktop/GitHub/dayz-stash-management/image_scrape.ipynb Cell 17\u001b[0m in \u001b[0;36mget_slot_size\u001b[0;34m(driver, item_Name_with_png)\u001b[0m\n\u001b[1;32m      <a href='vscode-notebook-cell:/Users/brandonsavone/Desktop/GitHub/dayz-stash-management/image_scrape.ipynb#X35sZmlsZQ%3D%3D?line=0'>1</a>\u001b[0m \u001b[39mdef\u001b[39;00m \u001b[39mget_slot_size\u001b[39m(driver,item_Name_with_png):\n\u001b[1;32m      <a href='vscode-notebook-cell:/Users/brandonsavone/Desktop/GitHub/dayz-stash-management/image_scrape.ipynb#X35sZmlsZQ%3D%3D?line=1'>2</a>\u001b[0m     \u001b[39m\"\"\"\u001b[39;00m\n\u001b[1;32m      <a href='vscode-notebook-cell:/Users/brandonsavone/Desktop/GitHub/dayz-stash-management/image_scrape.ipynb#X35sZmlsZQ%3D%3D?line=2'>3</a>\u001b[0m \u001b[39m    Retrieve the slot size for the given item.\u001b[39;00m\n\u001b[1;32m      <a href='vscode-notebook-cell:/Users/brandonsavone/Desktop/GitHub/dayz-stash-management/image_scrape.ipynb#X35sZmlsZQ%3D%3D?line=3'>4</a>\u001b[0m \u001b[39m    \u001b[39;00m\n\u001b[0;32m   (...)\u001b[0m\n\u001b[1;32m     <a href='vscode-notebook-cell:/Users/brandonsavone/Desktop/GitHub/dayz-stash-management/image_scrape.ipynb#X35sZmlsZQ%3D%3D?line=16'>17</a>\u001b[0m \u001b[39m        The slot size for the item.\u001b[39;00m\n\u001b[1;32m     <a href='vscode-notebook-cell:/Users/brandonsavone/Desktop/GitHub/dayz-stash-management/image_scrape.ipynb#X35sZmlsZQ%3D%3D?line=17'>18</a>\u001b[0m \u001b[39m    \"\"\"\u001b[39;00m\n\u001b[0;32m---> <a href='vscode-notebook-cell:/Users/brandonsavone/Desktop/GitHub/dayz-stash-management/image_scrape.ipynb#X35sZmlsZQ%3D%3D?line=19'>20</a>\u001b[0m     item_Name \u001b[39m=\u001b[39m item_Name\u001b[39m.\u001b[39mreplace(\u001b[39m'\u001b[39m\u001b[39m.png\u001b[39m\u001b[39m'\u001b[39m,\u001b[39m'\u001b[39m\u001b[39m'\u001b[39m)\n\u001b[1;32m     <a href='vscode-notebook-cell:/Users/brandonsavone/Desktop/GitHub/dayz-stash-management/image_scrape.ipynb#X35sZmlsZQ%3D%3D?line=20'>21</a>\u001b[0m     driver\u001b[39m.\u001b[39mget(\u001b[39mf\u001b[39m\u001b[39m'\u001b[39m\u001b[39mhttps://dayz.fandom.com/wiki/\u001b[39m\u001b[39m{\u001b[39;00mitem_Name\u001b[39m}\u001b[39;00m\u001b[39m'\u001b[39m)\n",
      "\u001b[0;31mUnboundLocalError\u001b[0m: local variable 'item_Name' referenced before assignment"
     ]
    }
   ],
   "source": [
    "image_dict['slot_Size'] = [get_slot_size(driver,item) for item in image_dict['adjusted_name']]"
   ]
  },
  {
   "cell_type": "code",
   "execution_count": null,
   "metadata": {},
   "outputs": [],
   "source": []
  },
  {
   "cell_type": "code",
   "execution_count": null,
   "metadata": {},
   "outputs": [],
   "source": []
  },
  {
   "cell_type": "code",
   "execution_count": 9,
   "metadata": {},
   "outputs": [
    {
     "name": "stdout",
     "output_type": "stream",
     "text": [
      "\n"
     ]
    }
   ],
   "source": [
    "driver = start_driver_and_open_url('https://dayz.fandom.com')"
   ]
  },
  {
   "cell_type": "code",
   "execution_count": 10,
   "metadata": {},
   "outputs": [],
   "source": [
    "url_dictionary = {'ammunition_url':'https://dayz.fandom.com/wiki/Ammunition',\n",
    "'attachment_url':'https://dayz.fandom.com/wiki/Attachments',\n",
    "'backpack_url':'https://dayz.fandom.com/wiki/Backpack',\n",
    "'clothing_url':'https://dayz.fandom.com/wiki/Clothing',\n",
    "'equipment_url':'https://dayz.fandom.com/wiki/Equipment',\n",
    "'food_url':'https://dayz.fandom.com/wiki/Food_and_Drink',\n",
    "'magazine_url':'https://dayz.fandom.com/wiki/Magazines',\n",
    "'medical_url':'https://dayz.fandom.com/wiki/Medical_Supplies',\n",
    "'resources_url':'https://dayz.fandom.com/wiki/Resources',\n",
    "'weapons_url':'https://dayz.fandom.com/wiki/Weapons'\n",
    "}"
   ]
  },
  {
   "cell_type": "code",
   "execution_count": 11,
   "metadata": {},
   "outputs": [],
   "source": [
    "df_name = []\n",
    "df_list = []\n",
    "for url_names in url_dictionary.keys():\n",
    "    #Access the URL\n",
    "    url_link = url_dictionary.get(url_names)\n",
    "    driver.get(url_link)\n",
    "    df_name.append(f'{url_names}_image_df')\n",
    "    df_list.append(execute_item_scrape(driver,url_link))\n",
    "    \n"
   ]
  },
  {
   "cell_type": "code",
   "execution_count": 12,
   "metadata": {},
   "outputs": [],
   "source": [
    "master_df = pd.DataFrame()"
   ]
  },
  {
   "cell_type": "code",
   "execution_count": 13,
   "metadata": {},
   "outputs": [],
   "source": [
    "for frames in df_list:\n",
    "    master_df = pd.concat([master_df,frames])"
   ]
  },
  {
   "cell_type": "code",
   "execution_count": 14,
   "metadata": {},
   "outputs": [],
   "source": [
    "master_df = master_df.drop_duplicates(\n",
    "    subset = ['item_Name','image_Link'],\n",
    "    keep = 'first').reset_index(drop = True)"
   ]
  },
  {
   "cell_type": "code",
   "execution_count": 15,
   "metadata": {},
   "outputs": [],
   "source": [
    "master_df = master_df.drop_duplicates().reset_index(drop = True)"
   ]
  },
  {
   "cell_type": "code",
   "execution_count": 16,
   "metadata": {},
   "outputs": [],
   "source": [
    "master_df.to_csv('dayz_images_info.csv',header=True,index=False)"
   ]
  },
  {
   "cell_type": "code",
   "execution_count": 17,
   "metadata": {},
   "outputs": [
    {
     "data": {
      "text/html": [
       "<div>\n",
       "<style scoped>\n",
       "    .dataframe tbody tr th:only-of-type {\n",
       "        vertical-align: middle;\n",
       "    }\n",
       "\n",
       "    .dataframe tbody tr th {\n",
       "        vertical-align: top;\n",
       "    }\n",
       "\n",
       "    .dataframe thead th {\n",
       "        text-align: right;\n",
       "    }\n",
       "</style>\n",
       "<table border=\"1\" class=\"dataframe\">\n",
       "  <thead>\n",
       "    <tr style=\"text-align: right;\">\n",
       "      <th></th>\n",
       "      <th>item_Name</th>\n",
       "      <th>image_Link</th>\n",
       "      <th>Category</th>\n",
       "    </tr>\n",
       "  </thead>\n",
       "  <tbody>\n",
       "    <tr>\n",
       "      <th>0</th>\n",
       "      <td>Sporter 22 Wood</td>\n",
       "      <td>https://static.wikia.nocookie.net/dayz_gameped...</td>\n",
       "      <td>Ammunition</td>\n",
       "    </tr>\n",
       "    <tr>\n",
       "      <th>1</th>\n",
       "      <td>15rd Sporter 22 Mag</td>\n",
       "      <td>https://static.wikia.nocookie.net/dayz_gameped...</td>\n",
       "      <td>Ammunition</td>\n",
       "    </tr>\n",
       "    <tr>\n",
       "      <th>2</th>\n",
       "      <td>30 rnd 22 mag</td>\n",
       "      <td>https://static.wikia.nocookie.net/dayz_gameped...</td>\n",
       "      <td>Ammunition</td>\n",
       "    </tr>\n",
       "    <tr>\n",
       "      <th>3</th>\n",
       "      <td>Ammo 380</td>\n",
       "      <td>https://static.wikia.nocookie.net/dayz_gameped...</td>\n",
       "      <td>Ammunition</td>\n",
       "    </tr>\n",
       "    <tr>\n",
       "      <th>4</th>\n",
       "      <td>AmmoBox 380 35Rnd</td>\n",
       "      <td>https://static.wikia.nocookie.net/dayz_gameped...</td>\n",
       "      <td>Ammunition</td>\n",
       "    </tr>\n",
       "    <tr>\n",
       "      <th>...</th>\n",
       "      <td>...</td>\n",
       "      <td>...</td>\n",
       "      <td>...</td>\n",
       "    </tr>\n",
       "    <tr>\n",
       "      <th>512</th>\n",
       "      <td>Plastic Explosive</td>\n",
       "      <td>https://static.wikia.nocookie.net/dayz_gameped...</td>\n",
       "      <td>Weapons</td>\n",
       "    </tr>\n",
       "    <tr>\n",
       "      <th>513</th>\n",
       "      <td>Improvised Explosive</td>\n",
       "      <td>https://static.wikia.nocookie.net/dayz_gameped...</td>\n",
       "      <td>Weapons</td>\n",
       "    </tr>\n",
       "    <tr>\n",
       "      <th>514</th>\n",
       "      <td>LandMine</td>\n",
       "      <td>https://static.wikia.nocookie.net/dayz_gameped...</td>\n",
       "      <td>Weapons</td>\n",
       "    </tr>\n",
       "    <tr>\n",
       "      <th>515</th>\n",
       "      <td>RGD-5 Grenade</td>\n",
       "      <td>https://static.wikia.nocookie.net/dayz_gameped...</td>\n",
       "      <td>Weapons</td>\n",
       "    </tr>\n",
       "    <tr>\n",
       "      <th>516</th>\n",
       "      <td>M67Grenade</td>\n",
       "      <td>https://static.wikia.nocookie.net/dayz_gameped...</td>\n",
       "      <td>Weapons</td>\n",
       "    </tr>\n",
       "  </tbody>\n",
       "</table>\n",
       "<p>517 rows × 3 columns</p>\n",
       "</div>"
      ],
      "text/plain": [
       "                item_Name                                         image_Link  \\\n",
       "0         Sporter 22 Wood  https://static.wikia.nocookie.net/dayz_gameped...   \n",
       "1     15rd Sporter 22 Mag  https://static.wikia.nocookie.net/dayz_gameped...   \n",
       "2           30 rnd 22 mag  https://static.wikia.nocookie.net/dayz_gameped...   \n",
       "3                Ammo 380  https://static.wikia.nocookie.net/dayz_gameped...   \n",
       "4       AmmoBox 380 35Rnd  https://static.wikia.nocookie.net/dayz_gameped...   \n",
       "..                    ...                                                ...   \n",
       "512     Plastic Explosive  https://static.wikia.nocookie.net/dayz_gameped...   \n",
       "513  Improvised Explosive  https://static.wikia.nocookie.net/dayz_gameped...   \n",
       "514              LandMine  https://static.wikia.nocookie.net/dayz_gameped...   \n",
       "515         RGD-5 Grenade  https://static.wikia.nocookie.net/dayz_gameped...   \n",
       "516            M67Grenade  https://static.wikia.nocookie.net/dayz_gameped...   \n",
       "\n",
       "       Category  \n",
       "0    Ammunition  \n",
       "1    Ammunition  \n",
       "2    Ammunition  \n",
       "3    Ammunition  \n",
       "4    Ammunition  \n",
       "..          ...  \n",
       "512     Weapons  \n",
       "513     Weapons  \n",
       "514     Weapons  \n",
       "515     Weapons  \n",
       "516     Weapons  \n",
       "\n",
       "[517 rows x 3 columns]"
      ]
     },
     "execution_count": 17,
     "metadata": {},
     "output_type": "execute_result"
    }
   ],
   "source": [
    "    master_df"
   ]
  },
  {
   "cell_type": "code",
   "execution_count": null,
   "metadata": {},
   "outputs": [],
   "source": []
  }
 ],
 "metadata": {
  "kernelspec": {
   "display_name": "Python 3.10.1 64-bit ('dayzmode': venv)",
   "language": "python",
   "name": "python3"
  },
  "language_info": {
   "codemirror_mode": {
    "name": "ipython",
    "version": 3
   },
   "file_extension": ".py",
   "mimetype": "text/x-python",
   "name": "python",
   "nbconvert_exporter": "python",
   "pygments_lexer": "ipython3",
   "version": "3.10.1"
  },
  "orig_nbformat": 4,
  "vscode": {
   "interpreter": {
    "hash": "d40dfdef5eff8e9508df0e14ef5945955332b47e6d5b1ed7adc30f945f9aa3eb"
   }
  }
 },
 "nbformat": 4,
 "nbformat_minor": 2
}
